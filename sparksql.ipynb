{
 "cells": [
  {
   "cell_type": "code",
   "execution_count": 1,
   "metadata": {},
   "outputs": [],
   "source": [
    "from pyspark.sql import SparkSession"
   ]
  },
  {
   "cell_type": "code",
   "execution_count": 2,
   "metadata": {},
   "outputs": [
    {
     "name": "stderr",
     "output_type": "stream",
     "text": [
      "24/11/24 09:31:48 WARN Utils: Your hostname, Ngas-MacBook-Pro.local resolves to a loopback address: 127.0.0.1; using 192.168.0.115 instead (on interface en0)\n",
      "24/11/24 09:31:48 WARN Utils: Set SPARK_LOCAL_IP if you need to bind to another address\n",
      "Setting default log level to \"WARN\".\n",
      "To adjust logging level use sc.setLogLevel(newLevel). For SparkR, use setLogLevel(newLevel).\n",
      "24/11/24 09:31:48 WARN NativeCodeLoader: Unable to load native-hadoop library for your platform... using builtin-java classes where applicable\n"
     ]
    }
   ],
   "source": [
    "spark = SparkSession.builder.appName(\"SparkSQL\").getOrCreate()"
   ]
  },
  {
   "cell_type": "code",
   "execution_count": 9,
   "metadata": {},
   "outputs": [],
   "source": [
    "people = (\n",
    "    spark\n",
    "    .read\n",
    "    .option(\"header\", \"true\")\n",
    "    .option(\"inferSchema\", \"true\")\n",
    "    .csv(\"data/fake-social-nw/fake_friends.csv\")\n",
    ")"
   ]
  },
  {
   "cell_type": "code",
   "execution_count": 10,
   "metadata": {},
   "outputs": [
    {
     "name": "stdout",
     "output_type": "stream",
     "text": [
      "Here is our inferred schema:\n",
      "root\n",
      " |-- ID: integer (nullable = true)\n",
      " |-- Name: string (nullable = true)\n",
      " |-- Age: integer (nullable = true)\n",
      " |-- Number of Friends: integer (nullable = true)\n",
      "\n"
     ]
    }
   ],
   "source": [
    "print(\"Here is our inferred schema:\")\n",
    "people.printSchema()"
   ]
  },
  {
   "cell_type": "code",
   "execution_count": 11,
   "metadata": {},
   "outputs": [
    {
     "name": "stdout",
     "output_type": "stream",
     "text": [
      "Let's display the name column:\n",
      "+--------+\n",
      "|    Name|\n",
      "+--------+\n",
      "|    Will|\n",
      "|Jean-Luc|\n",
      "|    Hugh|\n",
      "|  Deanna|\n",
      "|   Quark|\n",
      "|  Weyoun|\n",
      "|  Gowron|\n",
      "|    Will|\n",
      "|  Jadzia|\n",
      "|    Hugh|\n",
      "|     Odo|\n",
      "|     Ben|\n",
      "|   Keiko|\n",
      "|Jean-Luc|\n",
      "|    Hugh|\n",
      "|     Rom|\n",
      "|  Weyoun|\n",
      "|     Odo|\n",
      "|Jean-Luc|\n",
      "|  Geordi|\n",
      "+--------+\n",
      "only showing top 20 rows\n",
      "\n"
     ]
    }
   ],
   "source": [
    "print(\"Let's display the name column:\")\n",
    "people.select(\"Name\").show()"
   ]
  },
  {
   "cell_type": "code",
   "execution_count": 12,
   "metadata": {},
   "outputs": [
    {
     "name": "stdout",
     "output_type": "stream",
     "text": [
      "Filter out anyone over 21:\n",
      "+---+-------+---+-----------------+\n",
      "| ID|   Name|Age|Number of Friends|\n",
      "+---+-------+---+-----------------+\n",
      "| 21|  Miles| 19|              268|\n",
      "| 48|    Nog| 20|                1|\n",
      "| 52|Beverly| 19|              269|\n",
      "| 54|  Brunt| 19|                5|\n",
      "| 60| Geordi| 20|              100|\n",
      "| 73|  Brunt| 20|              384|\n",
      "|106|Beverly| 18|              499|\n",
      "|115|  Dukat| 18|              397|\n",
      "|133|  Quark| 19|              265|\n",
      "|136|   Will| 19|              335|\n",
      "|225|   Elim| 19|              106|\n",
      "|304|   Will| 19|              404|\n",
      "|327| Julian| 20|               63|\n",
      "|341|   Data| 18|              326|\n",
      "|349| Kasidy| 20|              277|\n",
      "|366|  Keiko| 19|              119|\n",
      "|373|  Quark| 19|              272|\n",
      "|377|Beverly| 18|              418|\n",
      "|404| Kasidy| 18|               24|\n",
      "|409|    Nog| 19|              267|\n",
      "+---+-------+---+-----------------+\n",
      "only showing top 20 rows\n",
      "\n"
     ]
    }
   ],
   "source": [
    "print(\"Filter out anyone over 21:\")\n",
    "people.filter(people.Age < 21).show()"
   ]
  },
  {
   "cell_type": "code",
   "execution_count": 13,
   "metadata": {},
   "outputs": [
    {
     "name": "stdout",
     "output_type": "stream",
     "text": [
      "Group by age:\n",
      "+---+-----+\n",
      "|Age|count|\n",
      "+---+-----+\n",
      "| 31|    8|\n",
      "| 65|    5|\n",
      "| 53|    7|\n",
      "| 34|    6|\n",
      "| 28|   10|\n",
      "| 26|   17|\n",
      "| 27|    8|\n",
      "| 44|   12|\n",
      "| 22|    7|\n",
      "| 47|    9|\n",
      "| 52|   11|\n",
      "| 40|   17|\n",
      "| 20|    5|\n",
      "| 57|   12|\n",
      "| 54|   13|\n",
      "| 48|   10|\n",
      "| 19|   11|\n",
      "| 64|   12|\n",
      "| 41|    9|\n",
      "| 43|    7|\n",
      "+---+-----+\n",
      "only showing top 20 rows\n",
      "\n"
     ]
    }
   ],
   "source": [
    "print(\"Group by age:\")\n",
    "people.groupBy(\"Age\").count().show()"
   ]
  },
  {
   "cell_type": "code",
   "execution_count": null,
   "metadata": {},
   "outputs": [
    {
     "name": "stdout",
     "output_type": "stream",
     "text": [
      "Make everyone 10 years older:\n",
      "+--------+----------+\n",
      "|    Name|(Age + 10)|\n",
      "+--------+----------+\n",
      "|    Will|        43|\n",
      "|Jean-Luc|        36|\n",
      "|    Hugh|        65|\n",
      "|  Deanna|        50|\n",
      "|   Quark|        78|\n",
      "|  Weyoun|        69|\n",
      "|  Gowron|        47|\n",
      "|    Will|        64|\n",
      "|  Jadzia|        48|\n",
      "|    Hugh|        37|\n",
      "|     Odo|        63|\n",
      "|     Ben|        67|\n",
      "|   Keiko|        64|\n",
      "|Jean-Luc|        66|\n",
      "|    Hugh|        53|\n",
      "|     Rom|        46|\n",
      "|  Weyoun|        32|\n",
      "|     Odo|        45|\n",
      "|Jean-Luc|        55|\n",
      "|  Geordi|        70|\n",
      "+--------+----------+\n",
      "only showing top 20 rows\n",
      "\n"
     ]
    }
   ],
   "source": [
    "print(\"Make everyone 10 years older:\")\n",
    "people.select(people.Name, people.Age + 10).show()"
   ]
  },
  {
   "cell_type": "code",
   "execution_count": 17,
   "metadata": {},
   "outputs": [
    {
     "name": "stdout",
     "output_type": "stream",
     "text": [
      "Get number of friends by age:\n",
      "+---+----------------------+\n",
      "|Age|sum(Number of Friends)|\n",
      "+---+----------------------+\n",
      "| 31|                  2138|\n",
      "| 65|                  1491|\n",
      "| 53|                  1560|\n",
      "| 34|                  1473|\n",
      "| 28|                  2091|\n",
      "| 26|                  4115|\n",
      "| 27|                  1825|\n",
      "| 44|                  3386|\n",
      "| 22|                  1445|\n",
      "| 47|                  2099|\n",
      "| 52|                  3747|\n",
      "| 40|                  4264|\n",
      "| 20|                   825|\n",
      "| 57|                  3106|\n",
      "| 54|                  3615|\n",
      "| 48|                  2814|\n",
      "| 19|                  2346|\n",
      "| 64|                  3376|\n",
      "| 41|                  2417|\n",
      "| 43|                  1614|\n",
      "+---+----------------------+\n",
      "only showing top 20 rows\n",
      "\n"
     ]
    }
   ],
   "source": [
    "print(\"Get number of friends by age:\")\n",
    "people.groupBy(\"Age\").agg({\"Number of Friends\": \"sum\"}).show()"
   ]
  },
  {
   "cell_type": "code",
   "execution_count": 18,
   "metadata": {},
   "outputs": [
    {
     "name": "stdout",
     "output_type": "stream",
     "text": [
      "Make everyone has more 100 friends:\n",
      "+--------+---+-------------------------+\n",
      "|    Name|Age|(Number of Friends + 100)|\n",
      "+--------+---+-------------------------+\n",
      "|    Will| 33|                      485|\n",
      "|Jean-Luc| 26|                      102|\n",
      "|    Hugh| 55|                      321|\n",
      "|  Deanna| 40|                      565|\n",
      "|   Quark| 68|                      121|\n",
      "|  Weyoun| 59|                      418|\n",
      "|  Gowron| 37|                      320|\n",
      "|    Will| 54|                      407|\n",
      "|  Jadzia| 38|                      480|\n",
      "|    Hugh| 27|                      281|\n",
      "|     Odo| 53|                      291|\n",
      "|     Ben| 57|                      472|\n",
      "|   Keiko| 54|                      353|\n",
      "|Jean-Luc| 56|                      544|\n",
      "|    Hugh| 43|                      149|\n",
      "|     Rom| 36|                      149|\n",
      "|  Weyoun| 22|                      423|\n",
      "|     Odo| 35|                      113|\n",
      "|Jean-Luc| 45|                      555|\n",
      "|  Geordi| 60|                      346|\n",
      "+--------+---+-------------------------+\n",
      "only showing top 20 rows\n",
      "\n"
     ]
    }
   ],
   "source": [
    "print(\"Make everyone has more 100 friends:\")\n",
    "people.select(people.Name, people.Age, people[\"Number of Friends\"] + 100).show()"
   ]
  },
  {
   "cell_type": "code",
   "execution_count": 19,
   "metadata": {},
   "outputs": [],
   "source": [
    "spark.stop()"
   ]
  },
  {
   "cell_type": "code",
   "execution_count": null,
   "metadata": {},
   "outputs": [],
   "source": []
  }
 ],
 "metadata": {
  "kernelspec": {
   "display_name": "udemy_spark",
   "language": "python",
   "name": "python3"
  },
  "language_info": {
   "codemirror_mode": {
    "name": "ipython",
    "version": 3
   },
   "file_extension": ".py",
   "mimetype": "text/x-python",
   "name": "python",
   "nbconvert_exporter": "python",
   "pygments_lexer": "ipython3",
   "version": "3.10.15"
  }
 },
 "nbformat": 4,
 "nbformat_minor": 2
}
