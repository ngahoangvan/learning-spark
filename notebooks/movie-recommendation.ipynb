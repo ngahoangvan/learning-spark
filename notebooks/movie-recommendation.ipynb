{
 "cells": [
  {
   "cell_type": "code",
   "execution_count": 1,
   "metadata": {},
   "outputs": [],
   "source": [
    "from pyspark import SparkContext, SparkConf\n",
    "from pyspark.sql import SparkSession, functions as func\n",
    "from pyspark.sql.types import StructType, StructField, StringType, IntegerType, FloatType"
   ]
  },
  {
   "cell_type": "code",
   "execution_count": 2,
   "metadata": {},
   "outputs": [
    {
     "name": "stderr",
     "output_type": "stream",
     "text": [
      "24/12/22 19:59:03 WARN Utils: Your hostname, Ngas-MacBook-Pro.local resolves to a loopback address: 127.0.0.1; using 192.168.0.115 instead (on interface en0)\n",
      "24/12/22 19:59:03 WARN Utils: Set SPARK_LOCAL_IP if you need to bind to another address\n",
      "Setting default log level to \"WARN\".\n",
      "To adjust logging level use sc.setLogLevel(newLevel). For SparkR, use setLogLevel(newLevel).\n",
      "24/12/22 19:59:04 WARN NativeCodeLoader: Unable to load native-hadoop library for your platform... using builtin-java classes where applicable\n"
     ]
    }
   ],
   "source": [
    "spark = SparkSession.builder.appName(\"MovieRecommendation\").getOrCreate()"
   ]
  },
  {
   "cell_type": "code",
   "execution_count": null,
   "metadata": {},
   "outputs": [],
   "source": [
    "rating_schema = StructType([\n",
    "    StructField(\"user_id\", IntegerType(), True),\n",
    "    StructField(\"movie_id\", StringType(), True),\n",
    "    StructField(\"rating\", FloatType(), True),\n",
    "    StructField(\"timestamp\", IntegerType(), True),\n",
    "])\n",
    "\n",
    "movie_schema = StructType([\n",
    "    StructField(\"movie_id\", StringType(), True),\n",
    "    StructField(\"title\", StringType(), True),\n",
    "    # StructField(\"other\", StringType(), True),\n",
    "])"
   ]
  },
  {
   "cell_type": "code",
   "execution_count": null,
   "metadata": {},
   "outputs": [],
   "source": [
    "# movies = spark.read.schema(movie_schema).option(\"header\", \"true\").csv(\"../data/ml-32m/movies.csv\")\n",
    "# ratings = spark.read.schema(rating_schema).option(\"header\", \"true\").csv(\"../data/ml-32m/ratings.csv\")\n",
    "\n",
    "movies = spark.read.schema(movie_schema).option(\"sep\", \"|\").csv(\"../data/ml-100k/u.item\")\n",
    "ratings = spark.read.schema(rating_schema).option(\"sep\", \"\\t\").csv(\"../data/ml-100k/u.data\")"
   ]
  },
  {
   "cell_type": "code",
   "execution_count": 17,
   "metadata": {},
   "outputs": [
    {
     "data": {
      "text/plain": [
       "DataFrame[user_id: int, movie_id: string, rating: float, timestamp: int]"
      ]
     },
     "execution_count": 17,
     "metadata": {},
     "output_type": "execute_result"
    }
   ],
   "source": [
    "# caching\n",
    "movies.cache()\n",
    "ratings.cache()"
   ]
  },
  {
   "cell_type": "code",
   "execution_count": 69,
   "metadata": {},
   "outputs": [
    {
     "name": "stderr",
     "output_type": "stream",
     "text": [
      "[Stage 105:>                                                        (0 + 1) / 1]\r"
     ]
    },
    {
     "name": "stdout",
     "output_type": "stream",
     "text": [
      "+-------+--------+------+---------+-------+--------+------+---------+\n",
      "|user_id|movie_id|rating|timestamp|user_id|movie_id|rating|timestamp|\n",
      "+-------+--------+------+---------+-------+--------+------+---------+\n",
      "|    196|     242|   3.0|881250949|    196|     269|   3.0|881250949|\n",
      "|    196|     242|   3.0|881250949|    196|     845|   4.0|881251954|\n",
      "|    196|     242|   3.0|881250949|    196|     762|   3.0|881251955|\n",
      "|    196|     242|   3.0|881250949|    196|     411|   4.0|881252090|\n",
      "|    196|     242|   3.0|881250949|    196|     285|   5.0|881251753|\n",
      "|    196|     242|   3.0|881250949|    196|     382|   4.0|881251843|\n",
      "|    196|     242|   3.0|881250949|    196|     287|   3.0|881251884|\n",
      "|    196|     242|   3.0|881250949|    196|     340|   3.0|881251045|\n",
      "|    196|     242|   3.0|881250949|    196|     257|   2.0|881251577|\n",
      "|    196|     242|   3.0|881250949|    196|      66|   3.0|881251911|\n",
      "|    196|     242|   3.0|881250949|    196|      70|   3.0|881251842|\n",
      "|    196|     242|   3.0|881250949|    196|     428|   4.0|881251702|\n",
      "|    196|     242|   3.0|881250949|    196|       8|   5.0|881251753|\n",
      "|    196|     242|   3.0|881250949|    196|     692|   5.0|881252017|\n",
      "|    196|     242|   3.0|881250949|    196|      94|   3.0|881252172|\n",
      "|    196|     242|   3.0|881250949|    196|     286|   5.0|881250949|\n",
      "|    196|     242|   3.0|881250949|    196|      25|   4.0|881251955|\n",
      "|    196|     242|   3.0|881250949|    196|     580|   2.0|881252056|\n",
      "|    196|     242|   3.0|881250949|    196|     663|   5.0|881251911|\n",
      "|    196|     242|   3.0|881250949|    196|     306|   4.0|881251021|\n",
      "+-------+--------+------+---------+-------+--------+------+---------+\n",
      "only showing top 20 rows\n",
      "\n"
     ]
    },
    {
     "name": "stderr",
     "output_type": "stream",
     "text": [
      "                                                                                \r"
     ]
    },
    {
     "data": {
      "text/plain": [
       "10050406"
      ]
     },
     "execution_count": 69,
     "metadata": {},
     "output_type": "execute_result"
    }
   ],
   "source": [
    "# ratings_self_joined = (\n",
    "#     ratings.alias(\"ratings_1\")\n",
    "#     .join(ratings.alias(\"ratings_2\"), \"user_id\")\n",
    "#     # .where(\"ratings_1.movie_id != ratings_2.movie_id\")\n",
    "#     # filter out the same movies\n",
    "#     .where(func.col(\"ratings_1.movie_id\").alias(\"movie_id_1\") < func.col(\"ratings_2.movie_id\").alias(\"movie_id_2\"))\n",
    "# )\n",
    "ratings_self_joined = (\n",
    "    ratings.alias(\"ratings_1\")\n",
    "    .join(ratings.alias(\"ratings_2\"),\n",
    "        (func.col(\"ratings_1.user_id\") == func.col(\"ratings_2.user_id\"))\n",
    "        # filter out the same movies\n",
    "        & (func.col(\"ratings_1.movie_id\").alias(\"movie_id_1\") < func.col(\"ratings_2.movie_id\").alias(\"movie_id_2\"))\n",
    "    )\n",
    ")\n",
    "ratings_self_joined.cache()\n",
    "ratings_self_joined.show()\n",
    "ratings_self_joined.count()"
   ]
  },
  {
   "cell_type": "markdown",
   "metadata": {},
   "source": [
    "### [How to Calculate Cosine Similarity in Python?](https://www.geeksforgeeks.org/how-to-calculate-cosine-similarity-in-python/)\n",
    "\n",
    "#### Theory\n",
    "\n",
    "`Similarity = (A.B) / (||A||.||B||) `\n",
    "\n",
    "where A and B are vectors:\n",
    "\n",
    "- A.B is dot product of A and B: It is computed as sum of element-wise product of A and B.\n",
    "- ||A|| is L2 norm of A: It is computed as square root of the sum of squares of elements of the vector A.\n",
    "\n",
    "#### Example\n",
    "\n",
    "```python\n",
    "# import required libraries\n",
    "import numpy as np\n",
    "from numpy.linalg import norm\n",
    "\n",
    "# define two lists or array\n",
    "A = np.array([2,1,2,3,2,9])\n",
    "B = np.array([3,4,2,4,5,5])\n",
    "\n",
    "print(\"A:\", A)\n",
    "print(\"B:\", B)\n",
    "\n",
    "# compute cosine similarity\n",
    "cosine = np.dot(A,B)/(norm(A)*norm(B))\n",
    "print(\"Cosine Similarity:\", cosine)\n",
    "\n",
    "```"
   ]
  },
  {
   "cell_type": "code",
   "execution_count": 70,
   "metadata": {},
   "outputs": [
    {
     "data": {
      "text/plain": [
       "DataFrame[movie_id_1: string, movie_id_2: string, xy: double, x^2: double, y^2: double, num_pairs: bigint]"
      ]
     },
     "execution_count": 70,
     "metadata": {},
     "output_type": "execute_result"
    }
   ],
   "source": [
    "processed_ratings = (\n",
    "    ratings_self_joined.select(\n",
    "        func.col(\"ratings_1.movie_id\").alias(\"movie_id_1\"),\n",
    "        func.col(\"ratings_2.movie_id\").alias(\"movie_id_2\"),\n",
    "        func.col(\"ratings_1.rating\").alias(\"rating_1\"),\n",
    "        func.col(\"ratings_2.rating\").alias(\"rating_2\"),\n",
    "    )\n",
    "    .withColumn(\"x^2\", func.pow(func.col(\"rating_1\"), 2))\n",
    "    .withColumn(\"y^2\", func.pow(func.col(\"rating_2\"), 2))\n",
    "    .withColumn(\"xy\", func.col(\"rating_1\") * func.col(\"rating_2\"))\n",
    "    .groupBy(\"movie_id_1\", \"movie_id_2\")\n",
    "    .agg(\n",
    "        func.sum(func.col(\"xy\")).alias(\"xy\"),\n",
    "        func.sum(func.col(\"x^2\")).alias(\"x^2\"),\n",
    "        func.sum(func.col(\"y^2\")).alias(\"y^2\"),\n",
    "        func.count(func.col(\"xy\")).alias(\"num_pairs\")\n",
    "    )\n",
    ")\n",
    "processed_ratings.cache()"
   ]
  },
  {
   "cell_type": "code",
   "execution_count": 71,
   "metadata": {},
   "outputs": [
    {
     "data": {
      "text/plain": [
       "DataFrame[movie_id_1: string, movie_id_2: string, xy: double, x^2: double, y^2: double, num_pairs: bigint, similarity: double]"
      ]
     },
     "execution_count": 71,
     "metadata": {},
     "output_type": "execute_result"
    }
   ],
   "source": [
    "calculate_similarities = processed_ratings.withColumn(\n",
    "    \"similarity\",\n",
    "    func.col(\"xy\") / (func.sqrt(func.col(\"x^2\")) * func.sqrt(func.col(\"y^2\")))\n",
    ")\n",
    "calculate_similarities.cache()"
   ]
  },
  {
   "cell_type": "code",
   "execution_count": 72,
   "metadata": {},
   "outputs": [
    {
     "name": "stderr",
     "output_type": "stream",
     "text": [
      "[Stage 110:>                                                        (0 + 1) / 1]\r"
     ]
    },
    {
     "name": "stdout",
     "output_type": "stream",
     "text": [
      "+----------+----------+------+------+------+---------+------------------+\n",
      "|movie_id_1|movie_id_2|    xy|   x^2|   y^2|num_pairs|        similarity|\n",
      "+----------+----------+------+------+------+---------+------------------+\n",
      "|       302|       332|1168.0|1534.0| 993.0|       84| 0.946358176403924|\n",
      "|      1014|       537| 154.0| 139.0| 181.0|       12|0.9708989541678686|\n",
      "|      1014|       341|  25.0|  25.0|  25.0|        1|               1.0|\n",
      "|       222|       930| 654.0| 939.0| 520.0|       62|0.9359298106532363|\n",
      "|       222|       584| 593.0| 613.0| 653.0|       46|0.9372767961332811|\n",
      "|       274|       289| 677.0| 755.0| 735.0|       64|0.9088067066930118|\n",
      "|       274|       576| 360.0| 441.0| 327.0|       32|0.9480021661874246|\n",
      "|      1042|       393| 205.0| 202.0| 235.0|       20| 0.940901682646041|\n",
      "|      1184|        89|  78.0|  59.0| 133.0|        8|0.8805272005370923|\n",
      "|      1184|       317|  13.0|   6.0|  45.0|        3|  0.79115480528524|\n",
      "|      1184|       161|  63.0|  51.0|  98.0|        8|0.8911327886790069|\n",
      "|       144|        89|2616.0|2583.0|2927.0|      164|0.9514022526012238|\n",
      "|       118|       155| 590.0| 631.0| 670.0|       61|0.9074024147660447|\n",
      "|       118|       466| 290.0| 236.0| 396.0|       25|0.9486246453077888|\n",
      "|         1|       583| 320.0| 403.0| 304.0|       27|0.9142409362343954|\n",
      "|         1|      1135| 353.0| 476.0| 306.0|       32|0.9249335136773119|\n",
      "|         1|       237|3968.0|4318.0|4000.0|      270|0.9547734830265712|\n",
      "|       234|       405|1920.0|2363.0|1778.0|      159|0.9367064043882614|\n",
      "|      1081|      1281|   1.0|   1.0|   1.0|        1|               1.0|\n",
      "|      1081|      1389|   1.0|   1.0|   1.0|        1|               1.0|\n",
      "+----------+----------+------+------+------+---------+------------------+\n",
      "only showing top 20 rows\n",
      "\n"
     ]
    },
    {
     "name": "stderr",
     "output_type": "stream",
     "text": [
      "                                                                                \r"
     ]
    }
   ],
   "source": [
    "calculate_similarities.show()"
   ]
  },
  {
   "cell_type": "code",
   "execution_count": null,
   "metadata": {},
   "outputs": [
    {
     "name": "stdout",
     "output_type": "stream",
     "text": [
      "+----------+----------+------+------+------+---------+------------------+--------+--------------------+\n",
      "|movie_id_1|movie_id_2|    xy|   x^2|   y^2|num_pairs|        similarity|movie_id|               title|\n",
      "+----------+----------+------+------+------+---------+------------------+--------+--------------------+\n",
      "|       172|        50|6638.0|6400.0|7031.0|      345|0.9895522078385338|     172|Empire Strikes Ba...|\n",
      "|       181|        50|8794.0|8164.0|9749.0|      480|0.9857230861253026|     181|Return of the Jed...|\n",
      "|       174|        50|7312.0|7318.0|7580.0|      380| 0.981760098872619|     174|Raiders of the Lo...|\n",
      "|       141|        50|1119.0| 854.0|1530.0|       68|0.9789385605497993|     141|20,000 Leagues Un...|\n",
      "|       178|        50|2133.0|2109.0|2257.0|      109|0.9776576120448436|     178| 12 Angry Men (1957)|\n",
      "|       408|        50|1850.0|1912.0|1873.0|       92|0.9775948291054827|     408|Close Shave, A (1...|\n",
      "|       498|        50|2594.0|2484.0|2841.0|      138|0.9764692222674887|     498|African Queen, Th...|\n",
      "|       194|        50|3698.0|3472.0|4142.0|      204|0.9751512937740359|     194|   Sting, The (1973)|\n",
      "|       169|        50|2051.0|2127.0|2081.0|      103|0.9748681355460885|     169|Wrong Trousers, T...|\n",
      "|       114|        50|1174.0|1175.0|1236.0|       58|0.9741816128302572|     114|Wallace & Gromit:...|\n",
      "|       210|        50|5422.0|4974.0|6236.0|      304|0.9735394829992481|     210|Indiana Jones and...|\n",
      "|       480|        50|2993.0|2924.0|3233.0|      156|0.9734534315266805|     480|North by Northwes...|\n",
      "|       478|        50|1601.0|1560.0|1734.0|       87|0.9734294611633468|     478|Philadelphia Stor...|\n",
      "|       199|        50|2697.0|2628.0|2925.0|      145|0.9727591639531913|     199|Bridge on the Riv...|\n",
      "|       483|        50|4120.0|4337.0|4137.0|      214|0.9726570623726027|     483|   Casablanca (1942)|\n",
      "|       302|        50|2878.0|2837.0|3087.0|      158|0.9725071588724558|     302|L.A. Confidential...|\n",
      "|        12|        50|4348.0|4487.0|4455.0|      223|0.9724956031333988|      12|Usual Suspects, T...|\n",
      "|       495|        50| 868.0| 694.0|1148.0|       52| 0.972453952686859|     495|Around the World ...|\n",
      "|       193|        50|2469.0|2248.0|2872.0|      142|0.9716966796009308|     193|Right Stuff, The ...|\n",
      "|        50|       651|2787.0|3087.0|2665.0|      155|0.9716728035350273|      50|    Star Wars (1977)|\n",
      "+----------+----------+------+------+------+---------+------------------+--------+--------------------+\n",
      "only showing top 20 rows\n",
      "\n"
     ]
    }
   ],
   "source": [
    "movie_id = 50\n",
    "score_threshold = 0.97\n",
    "co_occurrence_threshold = 50\n",
    "\n",
    "results = (\n",
    "    calculate_similarities\n",
    "    .filter(\n",
    "        ((func.col(\"movie_id_1\") == movie_id) | (func.col(\"movie_id_2\") == movie_id))\n",
    "        & (func.col(\"similarity\") > score_threshold)\n",
    "        & (func.col(\"num_pairs\") > co_occurrence_threshold)\n",
    "    ).join(movies, func.col(\"movie_id_1\") == movies.movie_id)\n",
    "    .orderBy(func.col(\"similarity\").desc())\n",
    "    .limit(50)\n",
    ")\n",
    "results.show()"
   ]
  },
  {
   "cell_type": "code",
   "execution_count": null,
   "metadata": {},
   "outputs": [
    {
     "name": "stdout",
     "output_type": "stream",
     "text": [
      "+----------+------------------+--------------------+\n",
      "|movie_id_1|        similarity|               title|\n",
      "+----------+------------------+--------------------+\n",
      "|       172|0.9895522078385338|Empire Strikes Ba...|\n",
      "|       181|0.9857230861253026|Return of the Jed...|\n",
      "|       174| 0.981760098872619|Raiders of the Lo...|\n",
      "|       141|0.9789385605497993|20,000 Leagues Un...|\n",
      "|       178|0.9776576120448436| 12 Angry Men (1957)|\n",
      "|       408|0.9775948291054827|Close Shave, A (1...|\n",
      "|       498|0.9764692222674887|African Queen, Th...|\n",
      "|       194|0.9751512937740359|   Sting, The (1973)|\n",
      "|       169|0.9748681355460885|Wrong Trousers, T...|\n",
      "|       114|0.9741816128302572|Wallace & Gromit:...|\n",
      "|       210|0.9735394829992481|Indiana Jones and...|\n",
      "|       480|0.9734534315266805|North by Northwes...|\n",
      "|       478|0.9734294611633468|Philadelphia Stor...|\n",
      "|       199|0.9727591639531913|Bridge on the Riv...|\n",
      "|       483|0.9726570623726027|   Casablanca (1942)|\n",
      "|       302|0.9725071588724558|L.A. Confidential...|\n",
      "|        12|0.9724956031333988|Usual Suspects, T...|\n",
      "|       495| 0.972453952686859|Around the World ...|\n",
      "|       193|0.9716966796009308|Right Stuff, The ...|\n",
      "|        50|0.9716728035350273|    Star Wars (1977)|\n",
      "+----------+------------------+--------------------+\n",
      "only showing top 20 rows\n",
      "\n"
     ]
    }
   ],
   "source": [
    "results.select(\"movie_id_1\", \"similarity\", \"title\").show()"
   ]
  },
  {
   "cell_type": "code",
   "execution_count": null,
   "metadata": {},
   "outputs": [],
   "source": [
    "# Save a spark dataframe to a single csv file\n",
    "# https://stackoverflow.com/questions/33174443/how-to-save-a-spark-dataframe-as-csv-on-disk\n",
    "(\n",
    "    results.coalesce(1)\n",
    "    .write\n",
    "    .option(\"header\",\"true\")\n",
    "    .option(\"sep\",\",\")\n",
    "    .mode(\"overwrite\")\n",
    "    .csv(\"movie_recommandation\")\n",
    ")"
   ]
  },
  {
   "cell_type": "code",
   "execution_count": null,
   "metadata": {},
   "outputs": [],
   "source": [
    "spark.stop()"
   ]
  }
 ],
 "metadata": {
  "kernelspec": {
   "display_name": "udemy_spark",
   "language": "python",
   "name": "python3"
  },
  "language_info": {
   "codemirror_mode": {
    "name": "ipython",
    "version": 3
   },
   "file_extension": ".py",
   "mimetype": "text/x-python",
   "name": "python",
   "nbconvert_exporter": "python",
   "pygments_lexer": "ipython3",
   "version": "3.10.15"
  }
 },
 "nbformat": 4,
 "nbformat_minor": 2
}
