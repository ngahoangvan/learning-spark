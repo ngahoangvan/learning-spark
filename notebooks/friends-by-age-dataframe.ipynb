{
 "cells": [
  {
   "cell_type": "code",
   "execution_count": 14,
   "metadata": {},
   "outputs": [],
   "source": [
    "from pyspark.sql import SparkSession, functions as func"
   ]
  },
  {
   "cell_type": "code",
   "execution_count": 2,
   "metadata": {},
   "outputs": [
    {
     "name": "stderr",
     "output_type": "stream",
     "text": [
      "24/11/25 19:24:25 WARN Utils: Your hostname, Ngas-MacBook-Pro.local resolves to a loopback address: 127.0.0.1; using 192.168.0.115 instead (on interface en0)\n",
      "24/11/25 19:24:25 WARN Utils: Set SPARK_LOCAL_IP if you need to bind to another address\n",
      "Setting default log level to \"WARN\".\n",
      "To adjust logging level use sc.setLogLevel(newLevel). For SparkR, use setLogLevel(newLevel).\n",
      "24/11/25 19:24:25 WARN NativeCodeLoader: Unable to load native-hadoop library for your platform... using builtin-java classes where applicable\n"
     ]
    }
   ],
   "source": [
    "spark = SparkSession.builder.appName(\"FriendsByAge\").getOrCreate()"
   ]
  },
  {
   "cell_type": "code",
   "execution_count": 3,
   "metadata": {},
   "outputs": [],
   "source": [
    "line = spark.read.option(\"header\", \"true\").option(\"inferSchema\", \"true\").csv(\"../data/fake-social-nw/fake_friends.csv\")"
   ]
  },
  {
   "cell_type": "code",
   "execution_count": 10,
   "metadata": {},
   "outputs": [
    {
     "name": "stdout",
     "output_type": "stream",
     "text": [
      "+---+-----------------+\n",
      "|age|Number of Friends|\n",
      "+---+-----------------+\n",
      "| 33|              385|\n",
      "| 26|                2|\n",
      "| 55|              221|\n",
      "| 40|              465|\n",
      "| 68|               21|\n",
      "| 59|              318|\n",
      "| 37|              220|\n",
      "| 54|              307|\n",
      "| 38|              380|\n",
      "| 27|              181|\n",
      "| 53|              191|\n",
      "| 57|              372|\n",
      "| 54|              253|\n",
      "| 56|              444|\n",
      "| 43|               49|\n",
      "| 36|               49|\n",
      "| 22|              323|\n",
      "| 35|               13|\n",
      "| 45|              455|\n",
      "| 60|              246|\n",
      "+---+-----------------+\n",
      "only showing top 20 rows\n",
      "\n"
     ]
    }
   ],
   "source": [
    "friend_by_age = line.select(\"age\", \"Number of Friends\")\n",
    "friend_by_age.show()"
   ]
  },
  {
   "cell_type": "code",
   "execution_count": null,
   "metadata": {},
   "outputs": [
    {
     "name": "stdout",
     "output_type": "stream",
     "text": [
      "+---+----------------------+\n",
      "|age|avg(Number of Friends)|\n",
      "+---+----------------------+\n",
      "| 31|                267.25|\n",
      "| 65|                 298.2|\n",
      "| 53|    222.85714285714286|\n",
      "| 34|                 245.5|\n",
      "| 28|                 209.1|\n",
      "| 26|    242.05882352941177|\n",
      "| 27|               228.125|\n",
      "| 44|     282.1666666666667|\n",
      "| 22|    206.42857142857142|\n",
      "| 47|    233.22222222222223|\n",
      "| 52|     340.6363636363636|\n",
      "| 40|     250.8235294117647|\n",
      "| 20|                 165.0|\n",
      "| 57|     258.8333333333333|\n",
      "| 54|     278.0769230769231|\n",
      "| 48|                 281.4|\n",
      "| 19|    213.27272727272728|\n",
      "| 64|     281.3333333333333|\n",
      "| 41|    268.55555555555554|\n",
      "| 43|    230.57142857142858|\n",
      "+---+----------------------+\n",
      "only showing top 20 rows\n",
      "\n"
     ]
    }
   ],
   "source": [
    "# From friend_by_age we group by age and calculate the average number of friends\n",
    "friend_by_age.groupBy(\"age\").avg(\"Number of Friends\").show()"
   ]
  },
  {
   "cell_type": "code",
   "execution_count": 12,
   "metadata": {},
   "outputs": [
    {
     "name": "stdout",
     "output_type": "stream",
     "text": [
      "+---+----------------------+\n",
      "|age|avg(Number of Friends)|\n",
      "+---+----------------------+\n",
      "| 18|               343.375|\n",
      "| 19|    213.27272727272728|\n",
      "| 20|                 165.0|\n",
      "| 21|               350.875|\n",
      "| 22|    206.42857142857142|\n",
      "| 23|                 246.3|\n",
      "| 24|                 233.8|\n",
      "| 25|    197.45454545454547|\n",
      "| 26|    242.05882352941177|\n",
      "| 27|               228.125|\n",
      "| 28|                 209.1|\n",
      "| 29|    215.91666666666666|\n",
      "| 30|     235.8181818181818|\n",
      "| 31|                267.25|\n",
      "| 32|     207.9090909090909|\n",
      "| 33|     325.3333333333333|\n",
      "| 34|                 245.5|\n",
      "| 35|               211.625|\n",
      "| 36|                 246.6|\n",
      "| 37|    249.33333333333334|\n",
      "+---+----------------------+\n",
      "only showing top 20 rows\n",
      "\n"
     ]
    }
   ],
   "source": [
    "# Sorted\n",
    "friend_by_age.groupBy(\"age\").avg(\"Number of Friends\").sort(\"age\").show()"
   ]
  },
  {
   "cell_type": "code",
   "execution_count": 16,
   "metadata": {},
   "outputs": [
    {
     "name": "stdout",
     "output_type": "stream",
     "text": [
      "+---+--------------------------------+\n",
      "|age|round(avg(Number of Friends), 2)|\n",
      "+---+--------------------------------+\n",
      "| 18|                          343.38|\n",
      "| 19|                          213.27|\n",
      "| 20|                           165.0|\n",
      "| 21|                          350.88|\n",
      "| 22|                          206.43|\n",
      "| 23|                           246.3|\n",
      "| 24|                           233.8|\n",
      "| 25|                          197.45|\n",
      "| 26|                          242.06|\n",
      "| 27|                          228.13|\n",
      "| 28|                           209.1|\n",
      "| 29|                          215.92|\n",
      "| 30|                          235.82|\n",
      "| 31|                          267.25|\n",
      "| 32|                          207.91|\n",
      "| 33|                          325.33|\n",
      "| 34|                           245.5|\n",
      "| 35|                          211.63|\n",
      "| 36|                           246.6|\n",
      "| 37|                          249.33|\n",
      "+---+--------------------------------+\n",
      "only showing top 20 rows\n",
      "\n"
     ]
    }
   ],
   "source": [
    "# Formating\n",
    "friend_by_age.groupBy(\"age\").agg(func.round(func.avg(\"Number of Friends\"), 2)).sort(\"age\").show()"
   ]
  },
  {
   "cell_type": "code",
   "execution_count": 18,
   "metadata": {},
   "outputs": [
    {
     "name": "stdout",
     "output_type": "stream",
     "text": [
      "+---+----------+\n",
      "|age|friend_avg|\n",
      "+---+----------+\n",
      "| 18|    343.38|\n",
      "| 19|    213.27|\n",
      "| 20|     165.0|\n",
      "| 21|    350.88|\n",
      "| 22|    206.43|\n",
      "| 23|     246.3|\n",
      "| 24|     233.8|\n",
      "| 25|    197.45|\n",
      "| 26|    242.06|\n",
      "| 27|    228.13|\n",
      "| 28|     209.1|\n",
      "| 29|    215.92|\n",
      "| 30|    235.82|\n",
      "| 31|    267.25|\n",
      "| 32|    207.91|\n",
      "| 33|    325.33|\n",
      "| 34|     245.5|\n",
      "| 35|    211.63|\n",
      "| 36|     246.6|\n",
      "| 37|    249.33|\n",
      "+---+----------+\n",
      "only showing top 20 rows\n",
      "\n"
     ]
    }
   ],
   "source": [
    "# Change column name\n",
    "friend_by_age.groupBy(\"age\").agg(func.round(func.avg(\"Number of Friends\"), 2).alias(\"friend_avg\")).sort(\"age\").show()"
   ]
  },
  {
   "cell_type": "code",
   "execution_count": 19,
   "metadata": {},
   "outputs": [],
   "source": [
    "spark.stop()"
   ]
  },
  {
   "cell_type": "code",
   "execution_count": null,
   "metadata": {},
   "outputs": [],
   "source": []
  }
 ],
 "metadata": {
  "kernelspec": {
   "display_name": "udemy_spark",
   "language": "python",
   "name": "python3"
  },
  "language_info": {
   "codemirror_mode": {
    "name": "ipython",
    "version": 3
   },
   "file_extension": ".py",
   "mimetype": "text/x-python",
   "name": "python",
   "nbconvert_exporter": "python",
   "pygments_lexer": "ipython3",
   "version": "3.10.15"
  }
 },
 "nbformat": 4,
 "nbformat_minor": 2
}
