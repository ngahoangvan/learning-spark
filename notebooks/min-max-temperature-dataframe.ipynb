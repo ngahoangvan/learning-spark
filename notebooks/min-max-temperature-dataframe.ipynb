{
 "cells": [
  {
   "cell_type": "code",
   "execution_count": 1,
   "metadata": {},
   "outputs": [],
   "source": [
    "from pyspark.sql import SparkSession, functions as func\n",
    "from pyspark.sql.types import StructType, StructField, StringType, IntegerType"
   ]
  },
  {
   "cell_type": "code",
   "execution_count": 2,
   "metadata": {},
   "outputs": [
    {
     "name": "stderr",
     "output_type": "stream",
     "text": [
      "24/11/25 20:02:27 WARN Utils: Your hostname, Ngas-MacBook-Pro.local resolves to a loopback address: 127.0.0.1; using 192.168.0.115 instead (on interface en0)\n",
      "24/11/25 20:02:27 WARN Utils: Set SPARK_LOCAL_IP if you need to bind to another address\n",
      "Setting default log level to \"WARN\".\n",
      "To adjust logging level use sc.setLogLevel(newLevel). For SparkR, use setLogLevel(newLevel).\n",
      "24/11/25 20:02:28 WARN NativeCodeLoader: Unable to load native-hadoop library for your platform... using builtin-java classes where applicable\n"
     ]
    }
   ],
   "source": [
    "spark = SparkSession.builder.appName(\"MinMaxTemperature\").getOrCreate()"
   ]
  },
  {
   "cell_type": "code",
   "execution_count": 5,
   "metadata": {},
   "outputs": [
    {
     "name": "stdout",
     "output_type": "stream",
     "text": [
      "+-----------+--------+------------+-----------+\n",
      "|  stationID|    date|measure_type|temperature|\n",
      "+-----------+--------+------------+-----------+\n",
      "|ITE00100554|18000101|        TMAX|        -75|\n",
      "|ITE00100554|18000101|        TMIN|       -148|\n",
      "|GM000010962|18000101|        PRCP|          0|\n",
      "|EZE00100082|18000101|        TMAX|        -86|\n",
      "|EZE00100082|18000101|        TMIN|       -135|\n",
      "|ITE00100554|18000102|        TMAX|        -60|\n",
      "|ITE00100554|18000102|        TMIN|       -125|\n",
      "|GM000010962|18000102|        PRCP|          0|\n",
      "|EZE00100082|18000102|        TMAX|        -44|\n",
      "|EZE00100082|18000102|        TMIN|       -130|\n",
      "|ITE00100554|18000103|        TMAX|        -23|\n",
      "|ITE00100554|18000103|        TMIN|        -46|\n",
      "|GM000010962|18000103|        PRCP|          4|\n",
      "|EZE00100082|18000103|        TMAX|        -10|\n",
      "|EZE00100082|18000103|        TMIN|        -73|\n",
      "|ITE00100554|18000104|        TMAX|          0|\n",
      "|ITE00100554|18000104|        TMIN|        -13|\n",
      "|GM000010962|18000104|        PRCP|          0|\n",
      "|EZE00100082|18000104|        TMAX|        -55|\n",
      "|EZE00100082|18000104|        TMIN|        -74|\n",
      "+-----------+--------+------------+-----------+\n",
      "only showing top 20 rows\n",
      "\n"
     ]
    }
   ],
   "source": [
    "schema = StructType([\n",
    "    StructField(\"stationID\", StringType(), True),\n",
    "    StructField(\"date\", IntegerType(), True),\n",
    "    StructField(\"measure_type\", StringType(), True),\n",
    "    StructField(\"temperature\", IntegerType(), True)\n",
    "])\n",
    "\n",
    "df = spark.read.schema(schema).csv(\"../data/1800.csv\")\n",
    "df.show()"
   ]
  },
  {
   "cell_type": "code",
   "execution_count": 11,
   "metadata": {},
   "outputs": [
    {
     "name": "stdout",
     "output_type": "stream",
     "text": [
      "+-----------+---------------+\n",
      "|  stationID|min_temperature|\n",
      "+-----------+---------------+\n",
      "|ITE00100554|           -148|\n",
      "|EZE00100082|           -135|\n",
      "+-----------+---------------+\n",
      "\n"
     ]
    }
   ],
   "source": [
    "# Filter out all but TMIN entries\n",
    "min_temps = df.filter(df.measure_type == \"TMIN\")\n",
    "# Select only stationID and temperature\n",
    "station_temps = min_temps.select(\"stationID\", \"temperature\")\n",
    "# Aggregation\n",
    "min_temps = station_temps.groupBy(\"stationID\").agg(func.min(\"temperature\").alias(\"min_temperature\"))\n",
    "min_temps.show()"
   ]
  },
  {
   "cell_type": "code",
   "execution_count": 12,
   "metadata": {},
   "outputs": [
    {
     "name": "stdout",
     "output_type": "stream",
     "text": [
      "+-----------+---------------+\n",
      "|  stationID|max_temperature|\n",
      "+-----------+---------------+\n",
      "|ITE00100554|            323|\n",
      "|EZE00100082|            323|\n",
      "+-----------+---------------+\n",
      "\n"
     ]
    }
   ],
   "source": [
    "# Filter out all but TMIN entries\n",
    "max_temps = df.filter(df.measure_type == \"TMAX\")\n",
    "# Select only stationID and temperature\n",
    "station_temps = max_temps.select(\"stationID\", \"temperature\")\n",
    "# Aggregation\n",
    "max_temps = station_temps.groupBy(\"stationID\").agg(func.max(\"temperature\").alias(\"max_temperature\"))\n",
    "max_temps.show()"
   ]
  },
  {
   "cell_type": "code",
   "execution_count": 13,
   "metadata": {},
   "outputs": [
    {
     "name": "stdout",
     "output_type": "stream",
     "text": [
      "+-----------+---------------+-------------+\n",
      "|  stationID|min_temperature|temperature_f|\n",
      "+-----------+---------------+-------------+\n",
      "|ITE00100554|           -148|         5.36|\n",
      "|EZE00100082|           -135|          7.7|\n",
      "+-----------+---------------+-------------+\n",
      "\n"
     ]
    }
   ],
   "source": [
    "# Convert a temperature value from Celsius to Fahrenheit\n",
    "min_temps_by_station_f = min_temps.withColumn(\"temperature_f\", func.round(func.col(\"min_temperature\") / 10 * 1.8 + 32, 2))\n",
    "min_temps_by_station_f.show()"
   ]
  },
  {
   "cell_type": "code",
   "execution_count": 14,
   "metadata": {},
   "outputs": [],
   "source": [
    "spark.stop()"
   ]
  },
  {
   "cell_type": "code",
   "execution_count": null,
   "metadata": {},
   "outputs": [],
   "source": []
  }
 ],
 "metadata": {
  "kernelspec": {
   "display_name": "udemy_spark",
   "language": "python",
   "name": "python3"
  },
  "language_info": {
   "codemirror_mode": {
    "name": "ipython",
    "version": 3
   },
   "file_extension": ".py",
   "mimetype": "text/x-python",
   "name": "python",
   "nbconvert_exporter": "python",
   "pygments_lexer": "ipython3",
   "version": "3.10.15"
  }
 },
 "nbformat": 4,
 "nbformat_minor": 2
}
