{
 "cells": [
  {
   "cell_type": "code",
   "execution_count": 2,
   "metadata": {},
   "outputs": [],
   "source": [
    "from pyspark.sql import SparkSession, functions as func"
   ]
  },
  {
   "cell_type": "code",
   "execution_count": 3,
   "metadata": {},
   "outputs": [
    {
     "name": "stderr",
     "output_type": "stream",
     "text": [
      "24/11/25 19:41:46 WARN Utils: Your hostname, Ngas-MacBook-Pro.local resolves to a loopback address: 127.0.0.1; using 192.168.0.115 instead (on interface en0)\n",
      "24/11/25 19:41:46 WARN Utils: Set SPARK_LOCAL_IP if you need to bind to another address\n",
      "Setting default log level to \"WARN\".\n",
      "To adjust logging level use sc.setLogLevel(newLevel). For SparkR, use setLogLevel(newLevel).\n",
      "24/11/25 19:41:47 WARN NativeCodeLoader: Unable to load native-hadoop library for your platform... using builtin-java classes where applicable\n"
     ]
    }
   ],
   "source": [
    "spark = SparkSession.builder.appName(\"WordCount\").getOrCreate()"
   ]
  },
  {
   "cell_type": "code",
   "execution_count": 6,
   "metadata": {},
   "outputs": [],
   "source": [
    "lines = spark.read.text(\"../data/books/lorem.txt\")"
   ]
  },
  {
   "cell_type": "code",
   "execution_count": 22,
   "metadata": {},
   "outputs": [
    {
     "name": "stdout",
     "output_type": "stream",
     "text": [
      "+------------+\n",
      "|        word|\n",
      "+------------+\n",
      "|       Lorem|\n",
      "|       ipsum|\n",
      "|       dolor|\n",
      "|         sit|\n",
      "|        amet|\n",
      "| consectetur|\n",
      "| adipisicing|\n",
      "|        elit|\n",
      "|     Dolorum|\n",
      "|         qui|\n",
      "|   obcaecati|\n",
      "|    adipisci|\n",
      "|       ipsum|\n",
      "|perspiciatis|\n",
      "|     aperiam|\n",
      "|       nobis|\n",
      "|       culpa|\n",
      "|          ea|\n",
      "|        illo|\n",
      "|        eius|\n",
      "+------------+\n",
      "only showing top 20 rows\n",
      "\n"
     ]
    }
   ],
   "source": [
    "work_count = lines.select(func.explode(func.split(lines.value, \"\\\\W+\")).alias(\"word\"))\n",
    "work_count.show()"
   ]
  },
  {
   "cell_type": "code",
   "execution_count": 23,
   "metadata": {},
   "outputs": [
    {
     "name": "stdout",
     "output_type": "stream",
     "text": [
      "+------------+\n",
      "|        word|\n",
      "+------------+\n",
      "|       lorem|\n",
      "|       ipsum|\n",
      "|       dolor|\n",
      "|         sit|\n",
      "|        amet|\n",
      "| consectetur|\n",
      "| adipisicing|\n",
      "|        elit|\n",
      "|     dolorum|\n",
      "|         qui|\n",
      "|   obcaecati|\n",
      "|    adipisci|\n",
      "|       ipsum|\n",
      "|perspiciatis|\n",
      "|     aperiam|\n",
      "|       nobis|\n",
      "|       culpa|\n",
      "|          ea|\n",
      "|        illo|\n",
      "|        eius|\n",
      "+------------+\n",
      "only showing top 20 rows\n",
      "\n"
     ]
    }
   ],
   "source": [
    "# Normalize everything to lowercase\n",
    "work_count = work_count.select(func.lower(work_count.word).alias(\"word\"))\n",
    "work_count.show()"
   ]
  },
  {
   "cell_type": "code",
   "execution_count": 24,
   "metadata": {},
   "outputs": [
    {
     "name": "stdout",
     "output_type": "stream",
     "text": [
      "+------------+\n",
      "|        word|\n",
      "+------------+\n",
      "|       lorem|\n",
      "|       ipsum|\n",
      "|       dolor|\n",
      "|         sit|\n",
      "|        amet|\n",
      "| consectetur|\n",
      "| adipisicing|\n",
      "|        elit|\n",
      "|     dolorum|\n",
      "|         qui|\n",
      "|   obcaecati|\n",
      "|    adipisci|\n",
      "|       ipsum|\n",
      "|perspiciatis|\n",
      "|     aperiam|\n",
      "|       nobis|\n",
      "|       culpa|\n",
      "|          ea|\n",
      "|        illo|\n",
      "|        eius|\n",
      "+------------+\n",
      "only showing top 20 rows\n",
      "\n"
     ]
    }
   ],
   "source": [
    "# Count the occurrences of each word\n",
    "word_count = work_count.groupBy(\"word\").count()\n",
    "work_count.show()"
   ]
  },
  {
   "cell_type": "code",
   "execution_count": 26,
   "metadata": {},
   "outputs": [
    {
     "name": "stdout",
     "output_type": "stream",
     "text": [
      "+-----------+-----+\n",
      "|       word|count|\n",
      "+-----------+-----+\n",
      "|      ipsum|    3|\n",
      "|      lorem|    2|\n",
      "|adipisicing|    2|\n",
      "|        sit|    2|\n",
      "|consectetur|    2|\n",
      "|        qui|    2|\n",
      "|      dolor|    2|\n",
      "|    maiores|    2|\n",
      "| reiciendis|    2|\n",
      "|       elit|    2|\n",
      "|       amet|    2|\n",
      "|    tempora|    1|\n",
      "|   nesciunt|    1|\n",
      "|      velit|    1|\n",
      "|      earum|    1|\n",
      "|  obcaecati|    1|\n",
      "|    commodi|    1|\n",
      "|       quae|    1|\n",
      "|     soluta|    1|\n",
      "|    dolorum|    1|\n",
      "+-----------+-----+\n",
      "only showing top 20 rows\n",
      "\n"
     ]
    }
   ],
   "source": [
    "word_count_sorted = word_count.sort(\"count\", ascending=False)\n",
    "word_count_sorted.show()"
   ]
  },
  {
   "cell_type": "code",
   "execution_count": 27,
   "metadata": {},
   "outputs": [],
   "source": [
    "spark.stop()"
   ]
  },
  {
   "cell_type": "code",
   "execution_count": null,
   "metadata": {},
   "outputs": [],
   "source": []
  }
 ],
 "metadata": {
  "kernelspec": {
   "display_name": "udemy_spark",
   "language": "python",
   "name": "python3"
  },
  "language_info": {
   "codemirror_mode": {
    "name": "ipython",
    "version": 3
   },
   "file_extension": ".py",
   "mimetype": "text/x-python",
   "name": "python",
   "nbconvert_exporter": "python",
   "pygments_lexer": "ipython3",
   "version": "3.10.15"
  }
 },
 "nbformat": 4,
 "nbformat_minor": 2
}
