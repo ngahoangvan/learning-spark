{
 "cells": [
  {
   "cell_type": "code",
   "execution_count": 5,
   "metadata": {},
   "outputs": [],
   "source": [
    "from pyspark.sql import SparkSession, functions as func\n",
    "from pyspark.sql.types import StructType, StructField, StringType, IntegerType"
   ]
  },
  {
   "cell_type": "code",
   "execution_count": 3,
   "metadata": {},
   "outputs": [
    {
     "name": "stderr",
     "output_type": "stream",
     "text": [
      "24/12/21 15:41:58 WARN Utils: Your hostname, Ngas-MacBook-Pro.local resolves to a loopback address: 127.0.0.1; using 192.168.0.115 instead (on interface en0)\n",
      "24/12/21 15:41:58 WARN Utils: Set SPARK_LOCAL_IP if you need to bind to another address\n",
      "Setting default log level to \"WARN\".\n",
      "To adjust logging level use sc.setLogLevel(newLevel). For SparkR, use setLogLevel(newLevel).\n",
      "24/12/21 15:41:59 WARN NativeCodeLoader: Unable to load native-hadoop library for your platform... using builtin-java classes where applicable\n"
     ]
    }
   ],
   "source": [
    "spark = SparkSession.builder.appName(\"FindMostObscureHeroes\").getOrCreate()"
   ]
  },
  {
   "cell_type": "code",
   "execution_count": 6,
   "metadata": {},
   "outputs": [],
   "source": [
    "schemas = StructType([\n",
    "    StructField(\"id\", IntegerType(), True),\n",
    "    StructField(\"name\", StringType(), True)\n",
    "])"
   ]
  },
  {
   "cell_type": "code",
   "execution_count": 37,
   "metadata": {},
   "outputs": [],
   "source": [
    "names = spark.read.schema(schemas).option(\"sep\", \" \") .csv(\"../data/super_heroes/marvel_names\")"
   ]
  },
  {
   "cell_type": "code",
   "execution_count": 38,
   "metadata": {},
   "outputs": [],
   "source": [
    "lines = spark.read.text(\"../data/super_heroes/marvel_graph\")"
   ]
  },
  {
   "cell_type": "code",
   "execution_count": 39,
   "metadata": {},
   "outputs": [
    {
     "name": "stdout",
     "output_type": "stream",
     "text": [
      "+----+-----------+\n",
      "|  id|connections|\n",
      "+----+-----------+\n",
      "|2142|        223|\n",
      "|3749|         12|\n",
      "|5803|          8|\n",
      "|1580|         19|\n",
      "|3918|        498|\n",
      "| 496|         46|\n",
      "|6336|         45|\n",
      "|1342|         20|\n",
      "| 833|          9|\n",
      "|1645|         20|\n",
      "|3997|         11|\n",
      "|2866|         13|\n",
      "|6357|         13|\n",
      "|5518|         12|\n",
      "|4519|         57|\n",
      "|3794|         30|\n",
      "|1959|        483|\n",
      "|6397|         19|\n",
      "| 463|         26|\n",
      "|4101|         12|\n",
      "+----+-----------+\n",
      "only showing top 20 rows\n",
      "\n"
     ]
    }
   ],
   "source": [
    "connections = (\n",
    "    lines\n",
    "    .withColumn(\"id\", func.split(func.col(\"value\"), \" \")[0].cast(IntegerType()))\n",
    "    .withColumn(\"connections\", func.size(func.split(func.col(\"value\"), \" \")) - 1)\n",
    "    .groupBy(\"id\")\n",
    "    .agg(func.sum(\"connections\").alias(\"connections\"))\n",
    ")\n",
    "connections.show()"
   ]
  },
  {
   "cell_type": "code",
   "execution_count": 40,
   "metadata": {},
   "outputs": [
    {
     "data": {
      "text/plain": [
       "1"
      ]
     },
     "execution_count": 40,
     "metadata": {},
     "output_type": "execute_result"
    }
   ],
   "source": [
    "min_connections = connections.agg(func.min(\"connections\")).first()[0]\n",
    "min_connections"
   ]
  },
  {
   "cell_type": "code",
   "execution_count": 41,
   "metadata": {},
   "outputs": [],
   "source": [
    "\n",
    "# Solution 1\n",
    "# Join the connections with names, order by connections and filter the ones with connections = 1\n",
    "obsecure_heroes = (\n",
    "    connections\n",
    "    .join(names, \"id\")\n",
    "    .orderBy(\n",
    "        func.col(\"connections\").asc()\n",
    "    )\n",
    "    .filter(f\"connections = {min_connections}\")\n",
    ")"
   ]
  },
  {
   "cell_type": "code",
   "execution_count": 42,
   "metadata": {},
   "outputs": [
    {
     "name": "stdout",
     "output_type": "stream",
     "text": [
      "+----+-----------+--------------------+\n",
      "|  id|connections|                name|\n",
      "+----+-----------+--------------------+\n",
      "|3490|          1|MARVEL BOY II/MARTIN|\n",
      "|4517|          1|              RANDAK|\n",
      "|5028|          1|           SHARKSKIN|\n",
      "| 577|          1|              BLARE/|\n",
      "|4784|          1|                RUNE|\n",
      "|1089|          1|       CLUMSY FOULUP|\n",
      "|2911|          1|                KULL|\n",
      "|3489|          1|MARVEL BOY/MARTIN BU|\n",
      "|1841|          1|              FENRIS|\n",
      "|3298|          1|          LUNATIK II|\n",
      "| 467|          1|        BERSERKER II|\n",
      "|6411|          1|              ZANTOR|\n",
      "|3014|          1|JOHNSON, LYNDON BAIN|\n",
      "|2139|          1|      GIURESCU, RADU|\n",
      "|4945|          1|         SEA LEOPARD|\n",
      "| 835|          1|     CALLAHAN, DANNY|\n",
      "|1408|          1|         DEATHCHARGE|\n",
      "|4602|          1|         RED WOLF II|\n",
      "|2117|          1|GERVASE, LADY ALYSSA|\n",
      "+----+-----------+--------------------+\n",
      "\n"
     ]
    }
   ],
   "source": [
    "# Solution 2\n",
    "# Filter the connections with connections = 1, join with names and order by connections\n",
    "obsecure_heroes = (\n",
    "    connections\n",
    "    .filter(func.col(\"connections\") == 1)\n",
    "    .join(names, \"id\")\n",
    "    .orderBy(func.col(\"connections\").asc())\n",
    ")\n",
    "obsecure_heroes.show()"
   ]
  },
  {
   "cell_type": "code",
   "execution_count": 43,
   "metadata": {},
   "outputs": [
    {
     "name": "stdout",
     "output_type": "stream",
     "text": [
      "+--------------------+\n",
      "|                name|\n",
      "+--------------------+\n",
      "|MARVEL BOY II/MARTIN|\n",
      "|              RANDAK|\n",
      "|           SHARKSKIN|\n",
      "|              BLARE/|\n",
      "|                RUNE|\n",
      "|       CLUMSY FOULUP|\n",
      "|                KULL|\n",
      "|MARVEL BOY/MARTIN BU|\n",
      "|              FENRIS|\n",
      "|          LUNATIK II|\n",
      "|        BERSERKER II|\n",
      "|              ZANTOR|\n",
      "|JOHNSON, LYNDON BAIN|\n",
      "|      GIURESCU, RADU|\n",
      "|         SEA LEOPARD|\n",
      "|     CALLAHAN, DANNY|\n",
      "|         DEATHCHARGE|\n",
      "|         RED WOLF II|\n",
      "|GERVASE, LADY ALYSSA|\n",
      "+--------------------+\n",
      "\n"
     ]
    }
   ],
   "source": [
    "hero_names = obsecure_heroes.select(\"name\")\n",
    "hero_names.show()"
   ]
  },
  {
   "cell_type": "code",
   "execution_count": null,
   "metadata": {},
   "outputs": [],
   "source": []
  }
 ],
 "metadata": {
  "kernelspec": {
   "display_name": "udemy_spark",
   "language": "python",
   "name": "python3"
  },
  "language_info": {
   "codemirror_mode": {
    "name": "ipython",
    "version": 3
   },
   "file_extension": ".py",
   "mimetype": "text/x-python",
   "name": "python",
   "nbconvert_exporter": "python",
   "pygments_lexer": "ipython3",
   "version": "3.10.15"
  }
 },
 "nbformat": 4,
 "nbformat_minor": 2
}
