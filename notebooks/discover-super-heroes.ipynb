{
 "cells": [
  {
   "cell_type": "code",
   "execution_count": 1,
   "metadata": {},
   "outputs": [],
   "source": [
    "from pyspark.sql import SparkSession, functions as func\n",
    "from pyspark.sql.types import StructType, StructField, StringType, IntegerType, FloatType"
   ]
  },
  {
   "cell_type": "code",
   "execution_count": 2,
   "metadata": {},
   "outputs": [
    {
     "name": "stderr",
     "output_type": "stream",
     "text": [
      "24/12/09 07:59:01 WARN Utils: Your hostname, Ngas-MacBook-Pro.local resolves to a loopback address: 127.0.0.1; using 192.168.0.115 instead (on interface en0)\n",
      "24/12/09 07:59:01 WARN Utils: Set SPARK_LOCAL_IP if you need to bind to another address\n",
      "Setting default log level to \"WARN\".\n",
      "To adjust logging level use sc.setLogLevel(newLevel). For SparkR, use setLogLevel(newLevel).\n",
      "24/12/09 07:59:01 WARN NativeCodeLoader: Unable to load native-hadoop library for your platform... using builtin-java classes where applicable\n"
     ]
    }
   ],
   "source": [
    "spark = SparkSession.builder.appName(\"DiscoverHero\").getOrCreate()"
   ]
  },
  {
   "cell_type": "code",
   "execution_count": 10,
   "metadata": {},
   "outputs": [],
   "source": [
    "schemas = StructType([\n",
    "    StructField(\"id\", IntegerType(), True),\n",
    "    StructField(\"name\", StringType(), True),\n",
    "])"
   ]
  },
  {
   "cell_type": "code",
   "execution_count": 15,
   "metadata": {},
   "outputs": [],
   "source": [
    "names = spark.read.schema(schemas).option(\"sep\", \" \") .csv(\"../data/super_heroes/marvel_names\")"
   ]
  },
  {
   "cell_type": "code",
   "execution_count": 16,
   "metadata": {},
   "outputs": [],
   "source": [
    "lines = spark.read.text(\"../data/super_heroes/marvel_graph\")"
   ]
  },
  {
   "cell_type": "code",
   "execution_count": null,
   "metadata": {},
   "outputs": [],
   "source": [
    "connections = (\n",
    "    lines.withColumn(\"id\", func.split(func.col(\"value\"), \" \")[0])\n",
    "    .withColumn(\"connections\", func.size(func.split(func.col(\"value\"), \" \")) - 1)\n",
    ")"
   ]
  },
  {
   "cell_type": "code",
   "execution_count": 26,
   "metadata": {},
   "outputs": [
    {
     "name": "stdout",
     "output_type": "stream",
     "text": [
      "+--------------------+----+-----------+\n",
      "|               value|  id|connections|\n",
      "+--------------------+----+-----------+\n",
      "|5988 748 1722 375...|1722|         49|\n",
      "|5989 4080 4264 44...|4264|         41|\n",
      "|5982 217 595 1194...| 595|         43|\n",
      "|5983 1165 3836 43...|3836|         15|\n",
      "|5980 2731 3712 15...|3712|         25|\n",
      "|5981 3569 5353 40...|5353|         18|\n",
      "|5986 2658 3712 26...|3712|        143|\n",
      "|5987 2614 5716 17...|5716|         82|\n",
      "|5984 590 4898 745...|4898|         42|\n",
      "|5985 3233 2254 21...|2254|         20|\n",
      "|6294 4898 1127 32...|1127|         14|\n",
      "|270 2658 3003 380...|3003|         43|\n",
      "|271 4935 5716 430...|5716|         10|\n",
      "|272 2717 4363 408...|4363|         46|\n",
      "|273 1165 5013 511...|5013|         59|\n",
      "|274 3920 5310 402...|5310|        411|\n",
      "|275 4366 3373 158...|3373|         48|\n",
      "|276 2277 5251 480...|5251|         16|\n",
      "|277 1068 3495 619...|3495|         17|\n",
      "|278 1145 667 2650...| 667|        124|\n",
      "+--------------------+----+-----------+\n",
      "only showing top 20 rows\n",
      "\n"
     ]
    }
   ],
   "source": [
    "connections.show()"
   ]
  },
  {
   "cell_type": "code",
   "execution_count": null,
   "metadata": {},
   "outputs": [],
   "source": []
  }
 ],
 "metadata": {
  "kernelspec": {
   "display_name": "udemy_spark",
   "language": "python",
   "name": "python3"
  },
  "language_info": {
   "codemirror_mode": {
    "name": "ipython",
    "version": 3
   },
   "file_extension": ".py",
   "mimetype": "text/x-python",
   "name": "python",
   "nbconvert_exporter": "python",
   "pygments_lexer": "ipython3",
   "version": "3.10.15"
  }
 },
 "nbformat": 4,
 "nbformat_minor": 2
}
