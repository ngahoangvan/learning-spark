{
 "cells": [
  {
   "cell_type": "code",
   "execution_count": 18,
   "metadata": {},
   "outputs": [],
   "source": [
    "from pyspark.sql import SparkSession, functions as func\n",
    "from pyspark.sql.types import StructType, StructField, StringType, IntegerType, DoubleType"
   ]
  },
  {
   "cell_type": "code",
   "execution_count": null,
   "metadata": {},
   "outputs": [
    {
     "name": "stderr",
     "output_type": "stream",
     "text": [
      "24/11/25 20:53:14 WARN Utils: Your hostname, Ngas-MacBook-Pro.local resolves to a loopback address: 127.0.0.1; using 192.168.0.115 instead (on interface en0)\n",
      "24/11/25 20:53:14 WARN Utils: Set SPARK_LOCAL_IP if you need to bind to another address\n",
      "Setting default log level to \"WARN\".\n",
      "To adjust logging level use sc.setLogLevel(newLevel). For SparkR, use setLogLevel(newLevel).\n",
      "24/11/25 20:53:14 WARN NativeCodeLoader: Unable to load native-hadoop library for your platform... using builtin-java classes where applicable\n",
      "24/11/25 20:53:15 WARN Utils: Service 'SparkUI' could not bind on port 4040. Attempting port 4041.\n"
     ]
    }
   ],
   "source": [
    "spark: SparkSession = SparkSession.builder.appName(\"PopularMovies\").getOrCreate()"
   ]
  },
  {
   "cell_type": "code",
   "execution_count": 19,
   "metadata": {},
   "outputs": [],
   "source": [
    "schema = StructType([\n",
    "    StructField(\"user_id\", IntegerType(), True),\n",
    "    StructField(\"movie_id\", IntegerType(), True),\n",
    "    StructField(\"rating\", DoubleType(), True),\n",
    "    StructField(\"timestamp\", IntegerType(), True)\n",
    "])"
   ]
  },
  {
   "cell_type": "code",
   "execution_count": 22,
   "metadata": {},
   "outputs": [
    {
     "name": "stdout",
     "output_type": "stream",
     "text": [
      "+-------+--------+------+---------+\n",
      "|user_id|movie_id|rating|timestamp|\n",
      "+-------+--------+------+---------+\n",
      "|      1|      17|   4.0|944249077|\n",
      "|      1|      25|   1.0|944250228|\n",
      "|      1|      29|   2.0|943230976|\n",
      "|      1|      30|   5.0|944249077|\n",
      "|      1|      32|   5.0|943228858|\n",
      "|      1|      34|   2.0|943228491|\n",
      "|      1|      36|   1.0|944249008|\n",
      "|      1|      80|   5.0|944248943|\n",
      "|      1|     110|   3.0|943231119|\n",
      "|      1|     111|   5.0|944249008|\n",
      "|      1|     161|   1.0|943231162|\n",
      "|      1|     166|   5.0|943228442|\n",
      "|      1|     176|   4.0|944079496|\n",
      "|      1|     223|   3.0|944082810|\n",
      "|      1|     232|   5.0|943228442|\n",
      "|      1|     260|   5.0|943228696|\n",
      "|      1|     302|   4.0|944253272|\n",
      "|      1|     306|   5.0|944248888|\n",
      "|      1|     307|   5.0|944253207|\n",
      "|      1|     322|   4.0|944053801|\n",
      "+-------+--------+------+---------+\n",
      "only showing top 20 rows\n",
      "\n"
     ]
    },
    {
     "name": "stderr",
     "output_type": "stream",
     "text": [
      "24/11/25 21:02:28 WARN CSVHeaderChecker: CSV header does not conform to the schema.\n",
      " Header: userId, movieId, rating, timestamp\n",
      " Schema: user_id, movie_id, rating, timestamp\n",
      "Expected: user_id but found: userId\n",
      "CSV file: file:///Users/ngahoang/Documents/workspace/personal/udemy/spark-with-python/data/ml-32m/ratings.csv\n"
     ]
    }
   ],
   "source": [
    "df = spark.read.option(\"header\", \"true\").schema(schema).csv(\"../data/ml-32m/ratings.csv\")\n",
    "df.show()\n"
   ]
  },
  {
   "cell_type": "code",
   "execution_count": 26,
   "metadata": {},
   "outputs": [
    {
     "name": "stderr",
     "output_type": "stream",
     "text": [
      "24/11/25 21:14:00 WARN CSVHeaderChecker: CSV header does not conform to the schema.\n",
      " Header: movieId\n",
      " Schema: movie_id\n",
      "Expected: movie_id but found: movieId\n",
      "CSV file: file:///Users/ngahoang/Documents/workspace/personal/udemy/spark-with-python/data/ml-32m/ratings.csv\n",
      "[Stage 9:====================================>                      (5 + 3) / 8]\r"
     ]
    },
    {
     "name": "stdout",
     "output_type": "stream",
     "text": [
      "+--------+-----+\n",
      "|movie_id|count|\n",
      "+--------+-----+\n",
      "|    3175|17512|\n",
      "|     471|12016|\n",
      "|    1580|48434|\n",
      "|   44022| 6540|\n",
      "|   68135| 3678|\n",
      "|  166558|  735|\n",
      "|    1088|14112|\n",
      "|    1238| 3342|\n",
      "|    1342| 4288|\n",
      "|    1645|16718|\n",
      "|    1959| 5360|\n",
      "|    1591| 6188|\n",
      "|    3794|  849|\n",
      "|    3997| 2477|\n",
      "|    4519| 3060|\n",
      "|    4818|   50|\n",
      "|    4900|  373|\n",
      "|    5803| 1473|\n",
      "|    6620| 4488|\n",
      "|    7340|  395|\n",
      "+--------+-----+\n",
      "only showing top 20 rows\n",
      "\n"
     ]
    },
    {
     "name": "stderr",
     "output_type": "stream",
     "text": [
      "                                                                                \r"
     ]
    }
   ],
   "source": [
    "movie_counts = df.groupBy(\"movie_id\").count()\n",
    "movie_counts.show()"
   ]
  },
  {
   "cell_type": "code",
   "execution_count": 24,
   "metadata": {},
   "outputs": [],
   "source": [
    "def get_movie_names():\n",
    "    movie_names = {}\n",
    "    with open(\"../data/ml-32m/movies.csv\", \"r\") as f:\n",
    "        next(f)  # Skip the header line\n",
    "        for line in f:\n",
    "            fields = line.split(\",\")\n",
    "            movie_id = int(fields[0])\n",
    "            movie_name = fields[1]\n",
    "            movie_names[movie_id] = movie_name\n",
    "    return movie_names\n",
    "\n",
    "# Broadcast the movie names\n",
    "movie_names = spark.sparkContext.broadcast(get_movie_names())\n",
    "\n",
    "# Create a user defined function to look up movie names\n",
    "def lookup_movie_name(movie_id):\n",
    "    return movie_names.value.get(movie_id)\n",
    "\n",
    "lookup_name_udf = func.udf(lookup_movie_name)\n"
   ]
  },
  {
   "cell_type": "code",
   "execution_count": 27,
   "metadata": {},
   "outputs": [
    {
     "name": "stderr",
     "output_type": "stream",
     "text": [
      "24/11/25 21:14:17 WARN CSVHeaderChecker: CSV header does not conform to the schema.\n",
      " Header: movieId\n",
      " Schema: movie_id\n",
      "Expected: movie_id but found: movieId\n",
      "CSV file: file:///Users/ngahoang/Documents/workspace/personal/udemy/spark-with-python/data/ml-32m/ratings.csv\n",
      "[Stage 12:=======>                                                  (1 + 7) / 8]\r"
     ]
    },
    {
     "name": "stdout",
     "output_type": "stream",
     "text": [
      "+--------+-----+--------------------+\n",
      "|movie_id|count|          movie_name|\n",
      "+--------+-----+--------------------+\n",
      "|    3175|17512| Galaxy Quest (1999)|\n",
      "|     471|12016|    \"Hudsucker Proxy|\n",
      "|    1580|48434|Men in Black (a.k...|\n",
      "|   44022| 6540|Ice Age 2: The Me...|\n",
      "|   68135| 3678|     17 Again (2009)|\n",
      "|  166558|  735|Underworld: Blood...|\n",
      "|    1088|14112|Dirty Dancing (1987)|\n",
      "|    1238| 3342|   Local Hero (1983)|\n",
      "|    1342| 4288|     Candyman (1992)|\n",
      "|    1645|16718|The Devil's Advoc...|\n",
      "|    1959| 5360|Out of Africa (1985)|\n",
      "|    1591| 6188|        Spawn (1997)|\n",
      "|    3794|  849| Chuck & Buck (2000)|\n",
      "|    3997| 2477|Dungeons & Dragon...|\n",
      "|    4519| 3060|   \"Land Before Time|\n",
      "|    4818|   50| Extreme Days (2001)|\n",
      "|    4900|  373|     Out Cold (2001)|\n",
      "|    5803| 1473|        I Spy (2002)|\n",
      "|    6620| 4488|American Splendor...|\n",
      "|    7340|  395|Just One of the G...|\n",
      "+--------+-----+--------------------+\n",
      "only showing top 20 rows\n",
      "\n"
     ]
    },
    {
     "name": "stderr",
     "output_type": "stream",
     "text": [
      "                                                                                \r"
     ]
    }
   ],
   "source": [
    "movies_with_names = movie_counts.withColumn(\"movie_name\", lookup_name_udf(df[\"movie_id\"]))\n",
    "movies_with_names.show()"
   ]
  },
  {
   "cell_type": "code",
   "execution_count": null,
   "metadata": {},
   "outputs": [],
   "source": []
  }
 ],
 "metadata": {
  "kernelspec": {
   "display_name": "udemy_spark",
   "language": "python",
   "name": "python3"
  },
  "language_info": {
   "codemirror_mode": {
    "name": "ipython",
    "version": 3
   },
   "file_extension": ".py",
   "mimetype": "text/x-python",
   "name": "python",
   "nbconvert_exporter": "python",
   "pygments_lexer": "ipython3",
   "version": "3.10.15"
  }
 },
 "nbformat": 4,
 "nbformat_minor": 2
}
